{
 "cells": [
  {
   "cell_type": "markdown",
   "id": "9d4cdb3f-3532-4cda-84ad-6d3a7ed77754",
   "metadata": {},
   "source": [
    "A test notebook made by Matt.\n",
    "\n",
    "Please delete me ! :)"
   ]
  },
  {
   "cell_type": "code",
   "execution_count": null,
   "id": "3a2a4b42-e61a-4a9e-b247-17323d3c7946",
   "metadata": {},
   "outputs": [],
   "source": [
    "# Run git status\n",
    "\n",
    "! git status"
   ]
  }
 ],
 "metadata": {
  "kernelspec": {
   "display_name": "Python 3 (ipykernel)",
   "language": "python",
   "name": "python3"
  },
  "language_info": {
   "codemirror_mode": {
    "name": "ipython",
    "version": 3
   },
   "file_extension": ".py",
   "mimetype": "text/x-python",
   "name": "python",
   "nbconvert_exporter": "python",
   "pygments_lexer": "ipython3",
   "version": "3.8.10"
  }
 },
 "nbformat": 4,
 "nbformat_minor": 5
}
