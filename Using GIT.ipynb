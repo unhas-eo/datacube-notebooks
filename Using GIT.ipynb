{
 "cells": [
  {
   "cell_type": "markdown",
   "id": "5f6c83c8-301b-4280-8c23-d035db4ff75e",
   "metadata": {},
   "source": [
    "# Using GIT\n",
    "\n",
    "Some helpful commands for using GIT in the Terminal.\n",
    "\n",
    "To open the Terminal:\n",
    "- File > New > Terminal\n",
    "- or\n",
    "- File > New Launcher. Select Terminal icon"
   ]
  },
  {
   "cell_type": "markdown",
   "id": "e34e4a88-da04-4498-aacf-18f4e8c061e8",
   "metadata": {},
   "source": [
    "## Status\n",
    "\n",
    "`git status` show information about the current directory. It is helpful to remind us where we are.\n",
    "\n",
    "- Branch name. Usually \"master\"\n",
    "- Modified files. These files are known to \"git\" and have been changed.\n",
    "- Untracked files. These files are not known to \"git\" yet.\n",
    "- Untracked directories (new files in new directories are not shown, only the new directory)."
   ]
  },
  {
   "cell_type": "code",
   "execution_count": null,
   "id": "d382c408-a5c3-4a7c-9b4d-aa901b9c8791",
   "metadata": {},
   "outputs": [],
   "source": [
    "! git status"
   ]
  },
  {
   "cell_type": "markdown",
   "id": "ea7b0c18-0d48-44ac-951c-95c48fce9732",
   "metadata": {},
   "source": [
    "## Add new and changed files\n",
    "\n",
    "Adding new and changed files to git is a two-step process:\n",
    "1. Add new and changed files. Registers the file changes with the local \"git\" index.\n",
    "2. Commit new and changed files. Creates a change record in the \"git\" history.\n",
    "\n",
    "Add selected files or Add all new and changed files with `--all`."
   ]
  },
  {
   "cell_type": "code",
   "execution_count": null,
   "id": "8333ba78-87e6-4fb6-a160-09029b3a4cb1",
   "metadata": {},
   "outputs": [],
   "source": [
    "! git add Using\\ GIT.ipynb"
   ]
  },
  {
   "cell_type": "markdown",
   "id": "6063453e-5ddc-471d-9565-25308926e99f",
   "metadata": {},
   "source": [
    "## Commit changes\n",
    "\n",
    "Commit changes creates a record in the \"git\" history.\n",
    "\n",
    "Add a message to the commit, which can be simple or helpful. For example:\n",
    "- \"Initial commit\"\n",
    "- \"Update notebook\"\n",
    "- \"Add shapefile masking to notebook\"\n",
    "\n",
    "The actual files changes can be seen in the `git log` history so the message can be fairly simple.\n",
    "\n",
    "### Removing outputs\n",
    "\n",
    "If you have run the `bin/apply_hooks.sh` script then a piece of code will be run to remove the \"outputs\" from the notebooks. This is helpful for reducing the files sizes that are added to the repository."
   ]
  },
  {
   "cell_type": "code",
   "execution_count": null,
   "id": "14994b31-c426-48da-9c3e-e818f71dfc93",
   "metadata": {},
   "outputs": [],
   "source": [
    "! git commit -m \"Updated notebook\""
   ]
  },
  {
   "cell_type": "markdown",
   "id": "90152ac0-41e1-443b-a1bf-09df0ce1a4d2",
   "metadata": {},
   "source": [
    "## Push\n",
    "\n",
    "Push means to upload your changes to the remote repository."
   ]
  },
  {
   "cell_type": "code",
   "execution_count": null,
   "id": "284401fe-5db9-429a-b496-32bdfd8b5dab",
   "metadata": {},
   "outputs": [],
   "source": []
  }
 ],
 "metadata": {
  "kernelspec": {
   "display_name": "Python 3 (ipykernel)",
   "language": "python",
   "name": "python3"
  },
  "language_info": {
   "codemirror_mode": {
    "name": "ipython",
    "version": 3
   },
   "file_extension": ".py",
   "mimetype": "text/x-python",
   "name": "python",
   "nbconvert_exporter": "python",
   "pygments_lexer": "ipython3",
   "version": "3.8.10"
  }
 },
 "nbformat": 4,
 "nbformat_minor": 5
}
