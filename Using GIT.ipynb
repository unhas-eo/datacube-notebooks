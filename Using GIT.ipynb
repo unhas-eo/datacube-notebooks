{
 "cells": [
  {
   "cell_type": "markdown",
   "id": "5f6c83c8-301b-4280-8c23-d035db4ff75e",
   "metadata": {},
   "source": [
    "# Using GIT\n",
    "\n",
    "Some helpful commands for using GIT in the Terminal.\n",
    "\n",
    "To open the Terminal:\n",
    "- File > New > Terminal\n",
    "- or\n",
    "- File > New Launcher. Select Terminal icon\n",
    "\n",
    "Alternatively, you can use the JupyterLab Git plugin (branch icon on left panel).\n",
    "\n",
    "Further information on using Git:\n",
    "- Getting started: https://git-scm.com/doc\n",
    "- Using the JupyterLab Git extension: https://annefou.github.io/jupyter_publish/02-git/index.html\n",
    "- DEA Git guide: https://github.com/GeoscienceAustralia/dea-notebooks/wiki/Guide-to-using-DEA-Notebooks-with-git\n",
    "- Ungoing things guide: https://git-scm.com/book/en/v2/Git-Basics-Undoing-Things\n",
    "- Understanding branches: https://nvie.com/posts/a-successful-git-branching-model\n",
    "- Search the internet, for example: https://stackoverflow.com/questions/tagged/git\n",
    "\n",
    "Page index:\n",
    "- [Clone](#clone)\n",
    "- [Status](#status)\n",
    "- [Pull from remote](#pull-from-remote)\n",
    "- [Add new and changed files](#add-new-and-changed-files)\n",
    "- [Commit changes](#commit-changes)\n",
    "- [Push to remote](#push-to-remote)\n",
    "- [Branches](#branches)\n",
    "\n",
    "> __NOTE:__ many of the example commands in this notebook are simplified for the ___default branch name (typically master or main)___ and ___remote alias (typically origin)___. See Git documentation for more information."
   ]
  },
  {
   "cell_type": "markdown",
   "id": "c7c3e68f-b1b9-40ad-a483-18e37235dc50",
   "metadata": {},
   "source": [
    "## Clone\n",
    "\n",
    "Download a Git repository. Its usually easiest to go to the repository webpage, select the \"Clone\" button and copy the link."
   ]
  },
  {
   "cell_type": "code",
   "execution_count": null,
   "id": "0ea5c211-d424-42b5-924f-f9e96e40f8b7",
   "metadata": {},
   "outputs": [],
   "source": [
    "# Create a new directory named by repository\n",
    "#! git clone [repository_url]   # Commented out so you don't accidentally run the command while \"running\" this notebook\n",
    "\n",
    "# Download a respository *into* the current working directory ('.')\n",
    "#! mkdir [my_directory_name]\n",
    "#! cd [my_directory_name]\n",
    "#! git clone [repository_url] .  # Commented out so you don't accidentally run the command while \"running\" this notebook"
   ]
  },
  {
   "cell_type": "markdown",
   "id": "e34e4a88-da04-4498-aacf-18f4e8c061e8",
   "metadata": {},
   "source": [
    "## Status\n",
    "\n",
    "Show information about the local git directory. This is helpful to remind us where we are and what might have changed.\n",
    "\n",
    "- ___Branch name___: Usually \"master\" or \"main\".\n",
    "- ___Modified files___: These files are known to Git and have been changed.\n",
    "- ___Untracked files___: These files are not known to Git yet.\n",
    "- ___Untracked directories___: New files in new directories are not shown, only the new directory."
   ]
  },
  {
   "cell_type": "code",
   "execution_count": null,
   "id": "d382c408-a5c3-4a7c-9b4d-aa901b9c8791",
   "metadata": {},
   "outputs": [],
   "source": [
    "! git status  # No harm in running this at any time"
   ]
  },
  {
   "cell_type": "markdown",
   "id": "bd7a3341-6a16-46ec-a304-9f7d499e0ec8",
   "metadata": {},
   "source": [
    "## Pull from remote\n",
    "\n",
    "Download changes from the remote repository."
   ]
  },
  {
   "cell_type": "code",
   "execution_count": null,
   "id": "64e4738f-9550-47d1-bef6-d91fee57fccf",
   "metadata": {},
   "outputs": [],
   "source": [
    "#! git pull   # Commented out so you don't accidentally run the command while \"running\" this notebook"
   ]
  },
  {
   "cell_type": "markdown",
   "id": "ea7b0c18-0d48-44ac-951c-95c48fce9732",
   "metadata": {},
   "source": [
    "## Add new and changed files\n",
    "\n",
    "Add new and changed files to Git is a two-step process:\n",
    "1. Add new and changed files. Registers the file changes with the local Git index.\n",
    "2. Commit new and changed files. Creates a change record in the Git history."
   ]
  },
  {
   "cell_type": "code",
   "execution_count": null,
   "id": "8333ba78-87e6-4fb6-a160-09029b3a4cb1",
   "metadata": {},
   "outputs": [],
   "source": [
    "# Add selected file(s)\n",
    "#! git add \"Using GIT.ipynb\"   # Commented out so you don't accidentally run the command while \"running\" this notebook\n",
    "\n",
    "# Add all new and changed files\n",
    "#! git add --all   # Commented out so you don't accidentally run the command while \"running\" this notebook"
   ]
  },
  {
   "cell_type": "markdown",
   "id": "6063453e-5ddc-471d-9565-25308926e99f",
   "metadata": {},
   "source": [
    "## Commit changes\n",
    "\n",
    "Commit changes creates a record in the Git history.\n",
    "\n",
    "Add a message to the commit, which can be simple or helpful. For example:\n",
    "- \"Initial commit\"\n",
    "- \"Update notebook\"\n",
    "- \"Add shapefile masking to notebook\"\n",
    "\n",
    "The actual files changes can be seen in the `git log` history so the message can be fairly simple.\n",
    "\n",
    "### Removing outputs\n",
    "\n",
    "If you have run the `bin/apply_hooks.sh` script then a piece of code will be run to remove the \"outputs\" from the notebooks. This is helpful for reducing the files sizes that are added to the repository."
   ]
  },
  {
   "cell_type": "code",
   "execution_count": null,
   "id": "14994b31-c426-48da-9c3e-e818f71dfc93",
   "metadata": {},
   "outputs": [],
   "source": [
    "#! git commit -m \"Updated notebook\"   # Commented out so you don't accidentally run the command while \"running\" this notebook"
   ]
  },
  {
   "cell_type": "markdown",
   "id": "90152ac0-41e1-443b-a1bf-09df0ce1a4d2",
   "metadata": {},
   "source": [
    "## Push to remote\n",
    "\n",
    "Upload your changes (local commits) to the remote repository."
   ]
  },
  {
   "cell_type": "code",
   "execution_count": null,
   "id": "284401fe-5db9-429a-b496-32bdfd8b5dab",
   "metadata": {},
   "outputs": [],
   "source": [
    "#! git push   # Commented out so you don't accidentally run the command while \"running\" this notebook"
   ]
  },
  {
   "cell_type": "markdown",
   "id": "be8ab5ce-d45b-468e-836e-609871c3fef0",
   "metadata": {},
   "source": [
    "## Branches\n",
    "\n",
    "Branches are a rich feature of Git that allows multiple developers to contribute to a repository of code, and to safely test and develop new code. For an overview and understanding of branches see https://nvie.com/posts/a-successful-git-branching-model."
   ]
  },
  {
   "cell_type": "code",
   "execution_count": null,
   "id": "62c0de9f-f2b9-4c2e-80f6-b3ecfcb15335",
   "metadata": {},
   "outputs": [],
   "source": [
    "# Show available branches\n",
    "! git branch -a  # No harm in running this at any time\n",
    "\n",
    "# Change to an existing branch\n",
    "#! git checkout [branch_name]   # Commented out so you don't accidentally run the command while \"running\" this notebook\n",
    "\n",
    "# Create a new local branch and chnage to it\n",
    "#! git checkout -b [branch_name]   # Commented out so you don't accidentally run the command while \"running\" this notebook"
   ]
  }
 ],
 "metadata": {
  "kernelspec": {
   "display_name": "Python 3 (ipykernel)",
   "language": "python",
   "name": "python3"
  },
  "language_info": {
   "codemirror_mode": {
    "name": "ipython",
    "version": 3
   },
   "file_extension": ".py",
   "mimetype": "text/x-python",
   "name": "python",
   "nbconvert_exporter": "python",
   "pygments_lexer": "ipython3",
   "version": "3.8.10"
  }
 },
 "nbformat": 4,
 "nbformat_minor": 5
}
