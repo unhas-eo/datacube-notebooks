{
 "cells": [
  {
   "cell_type": "markdown",
   "id": "5011060c-e433-412c-a0e3-5d7ea54c1e06",
   "metadata": {},
   "source": [
    "# Reading WFS with GeoPandas\n",
    "\n",
    "A simple example of how to query WMS/WFS capability and features and download WFS data from GeoServer."
   ]
  },
  {
   "cell_type": "markdown",
   "id": "1ad84af5",
   "metadata": {},
   "source": [
    "<a id=\"top\"></a>\n",
    "# Table of contents\n",
    "* [General WMS/WFS service capability and features](#a649e1d8-ce92-4eb8-b284-27d6707dc2b4)\n",
    "* [Recent water samples in WFS](#2718d8d9-8729-4eda-a9fc-6dac02f34bd8)\n",
    "* [Map fetching using WMS](#c7bc8d45-fff8-4deb-8e45-4f7456f91ace)"
   ]
  },
  {
   "cell_type": "code",
   "execution_count": 7,
   "id": "baf59718-fe74-491c-9c10-af0883c3f910",
   "metadata": {},
   "outputs": [],
   "source": [
    "WFS_URL = \"https://geoserver.sg-dev.easi-eo.solutions/geoserver/unhas/ows?service=WFS\"\n",
    "WFS_LAYER = \"unhas:Water_Sample_Coordinates\"\n",
    "\n",
    "WMS_URL = \"https://geoserver.sg-dev.easi-eo.solutions/geoserver/unhas/wms?service=WMS\"\n",
    "WMS_LAYER = \"Water_Sample_Coordinates\""
   ]
  },
  {
   "cell_type": "markdown",
   "id": "a649e1d8-ce92-4eb8-b284-27d6707dc2b4",
   "metadata": {},
   "source": [
    "## <span id=\"a649e1d8-ce92-4eb8-b284-27d6707dc2b4\">General WMS/WFS service capability and features [&#9652;](#top)</span>\n",
    "Using `owslib`. See https://geopython.github.io/OWSLib/usage.html#wms"
   ]
  },
  {
   "cell_type": "code",
   "execution_count": 8,
   "id": "bd5aeab7-7c1c-4cbd-9c0f-876cb1d09a86",
   "metadata": {
    "tags": []
   },
   "outputs": [
    {
     "name": "stdout",
     "output_type": "stream",
     "text": [
      "Service provider: None\n",
      "WFS version: 1.0.0\n",
      "Available operations: ['GetCapabilities', 'DescribeFeatureType', 'GetFeature', 'Transaction', 'LockFeature', 'GetFeatureWithLock']\n",
      "Available data layers: ['unhas:Boundary_CA_TempeLake_AR', 'unhas:Boundary_administration', 'unhas:Flood_2019', 'unhas:Flood_2020', 'unhas:Flood_2021', 'unhas:Forest_Function', 'unhas:Geology', 'unhas:LandCapability', 'unhas:Land_System', 'unhas:Rainfall', 'unhas:Rainfall_gauge', 'unhas:Slope', 'unhas:Soil', 'unhas:Water_Sample_Coordinates', 'unhas:linement']\n"
     ]
    }
   ],
   "source": [
    "from owslib.wfs import WebFeatureService\n",
    "\n",
    "wfs = WebFeatureService(url=WFS_URL)\n",
    "\n",
    "print(f\"Service provider: {wfs.identification.title}\")\n",
    "print(f\"WFS version: {wfs.version}\")\n",
    "print(f\"Available operations: {[operation.name for operation in wfs.operations]}\")\n",
    "print(f\"Available data layers: {list(wfs.contents)}\")\n",
    "\n",
    "# Uncomment the following lines to print all metadata of all layers\n",
    "# for layer, meta in wfs.items():\n",
    "#     print(f\"\\n{layer}: {meta.__dict__}\")"
   ]
  },
  {
   "cell_type": "markdown",
   "id": "2718d8d9-8729-4eda-a9fc-6dac02f34bd8",
   "metadata": {},
   "source": [
    "## <span id=\"2718d8d9-8729-4eda-a9fc-6dac02f34bd8\">Recent water samples in WFS [&#9652;](#top)</span>\n",
    "Using `requests` and `Geopandas`. Based on https://gis.stackexchange.com/a/302346"
   ]
  },
  {
   "cell_type": "code",
   "execution_count": 9,
   "id": "ee72a867-fa20-4eae-87ec-698f4c9c4607",
   "metadata": {},
   "outputs": [
    {
     "name": "stdout",
     "output_type": "stream",
     "text": [
      "unhas:Water_Sample_Coordinates data is of shape (24, 13)\n"
     ]
    },
    {
     "data": {
      "text/html": [
       "<div>\n",
       "<style scoped>\n",
       "    .dataframe tbody tr th:only-of-type {\n",
       "        vertical-align: middle;\n",
       "    }\n",
       "\n",
       "    .dataframe tbody tr th {\n",
       "        vertical-align: top;\n",
       "    }\n",
       "\n",
       "    .dataframe thead th {\n",
       "        text-align: right;\n",
       "    }\n",
       "</style>\n",
       "<table border=\"1\" class=\"dataframe\">\n",
       "  <thead>\n",
       "    <tr style=\"text-align: right;\">\n",
       "      <th></th>\n",
       "      <th>id</th>\n",
       "      <th>TITIK</th>\n",
       "      <th>X</th>\n",
       "      <th>Y</th>\n",
       "      <th>Lbr_Sungai</th>\n",
       "      <th>Ket_Citra</th>\n",
       "      <th>DESA</th>\n",
       "      <th>KECAMATAN</th>\n",
       "      <th>KABUPATEN</th>\n",
       "      <th>PROVINSI</th>\n",
       "      <th>TIM_SURV</th>\n",
       "      <th>TSS__mg_L_</th>\n",
       "      <th>geometry</th>\n",
       "    </tr>\n",
       "  </thead>\n",
       "  <tbody>\n",
       "    <tr>\n",
       "      <th>0</th>\n",
       "      <td>Water_Sample_Coordinates.1</td>\n",
       "      <td>3</td>\n",
       "      <td>119.983734</td>\n",
       "      <td>-4.192309</td>\n",
       "      <td>16</td>\n",
       "      <td>Citra Sentinel 2</td>\n",
       "      <td>UGI</td>\n",
       "      <td>SABBANGPARU</td>\n",
       "      <td>WAJO</td>\n",
       "      <td>SULAWESI SELATAN</td>\n",
       "      <td>Tim 2</td>\n",
       "      <td>34.155715</td>\n",
       "      <td>POINT Z (119.98370 -4.19230 0.00000)</td>\n",
       "    </tr>\n",
       "    <tr>\n",
       "      <th>1</th>\n",
       "      <td>Water_Sample_Coordinates.2</td>\n",
       "      <td>15</td>\n",
       "      <td>120.018318</td>\n",
       "      <td>-4.077734</td>\n",
       "      <td>6</td>\n",
       "      <td>Citra Sentinel 2</td>\n",
       "      <td>UJUNGE</td>\n",
       "      <td>TANASITOLO</td>\n",
       "      <td>WAJO</td>\n",
       "      <td>SULAWESI SELATAN</td>\n",
       "      <td>Tim 3</td>\n",
       "      <td>150.025099</td>\n",
       "      <td>POINT Z (120.01830 -4.07770 0.00000)</td>\n",
       "    </tr>\n",
       "    <tr>\n",
       "      <th>2</th>\n",
       "      <td>Water_Sample_Coordinates.3</td>\n",
       "      <td>16</td>\n",
       "      <td>120.022983</td>\n",
       "      <td>-4.129490</td>\n",
       "      <td>60</td>\n",
       "      <td>Citra Landsat 8</td>\n",
       "      <td>WATALIPUE</td>\n",
       "      <td>TEMPE</td>\n",
       "      <td>WAJO</td>\n",
       "      <td>SULAWESI SELATAN</td>\n",
       "      <td>Tim 3</td>\n",
       "      <td>64.242424</td>\n",
       "      <td>POINT Z (120.02300 -4.12950 0.00000)</td>\n",
       "    </tr>\n",
       "    <tr>\n",
       "      <th>3</th>\n",
       "      <td>Water_Sample_Coordinates.4</td>\n",
       "      <td>12</td>\n",
       "      <td>119.859901</td>\n",
       "      <td>-4.099675</td>\n",
       "      <td>11</td>\n",
       "      <td>Citra Sentinel 2</td>\n",
       "      <td>BAPANGI</td>\n",
       "      <td>PANCALAUTANG</td>\n",
       "      <td>SIDENRENGRAPPANG</td>\n",
       "      <td>SULAWESI SELATAN</td>\n",
       "      <td>Tim 1</td>\n",
       "      <td>0.000000</td>\n",
       "      <td>POINT Z (119.85990 -4.09970 0.00000)</td>\n",
       "    </tr>\n",
       "    <tr>\n",
       "      <th>4</th>\n",
       "      <td>Water_Sample_Coordinates.5</td>\n",
       "      <td>7</td>\n",
       "      <td>119.926974</td>\n",
       "      <td>-4.196781</td>\n",
       "      <td>15</td>\n",
       "      <td>Citra Sentinel 2</td>\n",
       "      <td>KESSING</td>\n",
       "      <td>DONRI-DONRI</td>\n",
       "      <td>SOPPENG</td>\n",
       "      <td>SULAWESI SELATAN</td>\n",
       "      <td>Tim 2</td>\n",
       "      <td>53.809524</td>\n",
       "      <td>POINT Z (119.92700 -4.19680 0.00000)</td>\n",
       "    </tr>\n",
       "  </tbody>\n",
       "</table>\n",
       "</div>"
      ],
      "text/plain": [
       "                           id TITIK           X         Y  Lbr_Sungai  \\\n",
       "0  Water_Sample_Coordinates.1     3  119.983734 -4.192309          16   \n",
       "1  Water_Sample_Coordinates.2    15  120.018318 -4.077734           6   \n",
       "2  Water_Sample_Coordinates.3    16  120.022983 -4.129490          60   \n",
       "3  Water_Sample_Coordinates.4    12  119.859901 -4.099675          11   \n",
       "4  Water_Sample_Coordinates.5     7  119.926974 -4.196781          15   \n",
       "\n",
       "          Ket_Citra       DESA     KECAMATAN         KABUPATEN  \\\n",
       "0  Citra Sentinel 2        UGI   SABBANGPARU              WAJO   \n",
       "1  Citra Sentinel 2     UJUNGE    TANASITOLO              WAJO   \n",
       "2   Citra Landsat 8  WATALIPUE         TEMPE              WAJO   \n",
       "3  Citra Sentinel 2    BAPANGI  PANCALAUTANG  SIDENRENGRAPPANG   \n",
       "4  Citra Sentinel 2    KESSING   DONRI-DONRI           SOPPENG   \n",
       "\n",
       "           PROVINSI TIM_SURV  TSS__mg_L_                              geometry  \n",
       "0  SULAWESI SELATAN    Tim 2   34.155715  POINT Z (119.98370 -4.19230 0.00000)  \n",
       "1  SULAWESI SELATAN    Tim 3  150.025099  POINT Z (120.01830 -4.07770 0.00000)  \n",
       "2  SULAWESI SELATAN    Tim 3   64.242424  POINT Z (120.02300 -4.12950 0.00000)  \n",
       "3  SULAWESI SELATAN    Tim 1    0.000000  POINT Z (119.85990 -4.09970 0.00000)  \n",
       "4  SULAWESI SELATAN    Tim 2   53.809524  POINT Z (119.92700 -4.19680 0.00000)  "
      ]
     },
     "metadata": {},
     "output_type": "display_data"
    },
    {
     "data": {
      "image/png": "[encoded data removed]",
      "text/plain": [
       "<Figure size 432x288 with 1 Axes>"
      ]
     },
     "metadata": {
      "needs_background": "light"
     },
     "output_type": "display_data"
    }
   ],
   "source": [
    "from requests import Request\n",
    "import geopandas as gpd\n",
    "\n",
    "# Parameters for fetching the data\n",
    "params = dict(\n",
    "    service='WFS', \n",
    "    version=\"1.1.1\", \n",
    "    request='GetFeature',\n",
    "    typeName=WFS_LAYER,\n",
    "    outputFormat='json'\n",
    ")\n",
    "# Parse the URL with parameters\n",
    "q = Request('GET', WFS_URL, params=params).prepare().url\n",
    "\n",
    "# Read data from URL\n",
    "data = gpd.read_file(q)\n",
    "print(f\"{WFS_LAYER} data is of shape {data.shape}\")\n",
    "display(data.head())\n",
    "data.plot();"
   ]
  },
  {
   "cell_type": "markdown",
   "id": "c7bc8d45-fff8-4deb-8e45-4f7456f91ace",
   "metadata": {},
   "source": [
    "## <span id=\"c7bc8d45-fff8-4deb-8e45-4f7456f91ace\">Map fetching using WMS [&#9652;](#top)</span>\n",
    "Probably not so useful for data analysis"
   ]
  },
  {
   "cell_type": "code",
   "execution_count": 10,
   "id": "0244a412-b494-42e9-b2ea-b5721d7f020a",
   "metadata": {},
   "outputs": [
    {
     "name": "stdout",
     "output_type": "stream",
     "text": [
      "Service provider: None\n",
      "WMS version: 1.1.1\n",
      "Available operations: ['GetCapabilities', 'GetMap', 'GetFeatureInfo', 'DescribeLayer', 'GetLegendGraphic', 'GetStyles']\n",
      "Available data layers: ['Boundary_CA_TempeLake_AR', 'Boundary_administration', 'Flood_2019', 'Flood_2020', 'Flood_2021', 'Forest_Function', 'Geology', 'LandCapability', 'Land_System', 'Rainfall', 'Rainfall_gauge', 'Slope', 'Soil', 'Wajo_City_4', 'Water_Sample_Coordinates', 'linement']\n"
     ]
    }
   ],
   "source": [
    "import io\n",
    "from owslib.wms import WebMapService\n",
    "import cartopy\n",
    "import matplotlib.pyplot as plt\n",
    "\n",
    "wms = WebMapService(url=WMS_URL)\n",
    "\n",
    "print(f\"Service provider: {wms.identification.title}\")\n",
    "print(f\"WMS version: {wms.version}\")\n",
    "print(f\"Available operations: {[operation.name for operation in wms.operations]}\")\n",
    "print(f\"Available data layers: {list(wms.contents)}\")"
   ]
  },
  {
   "cell_type": "code",
   "execution_count": 11,
   "id": "318d58e2-d20d-4a5a-b12b-30fd5dde8553",
   "metadata": {},
   "outputs": [
    {
     "data": {
      "image/png": "[encoded data removed]",
      "text/plain": [
       "<Figure size 432x288 with 1 Axes>"
      ]
     },
     "metadata": {
      "needs_background": "light"
     },
     "output_type": "display_data"
    }
   ],
   "source": [
    "bbox = wms[WMS_LAYER].boundingBoxWGS84\n",
    "response = wms.getmap(   \n",
    "    layers=[WMS_LAYER],\n",
    "    styles=list(wms[WMS_LAYER].styles),\n",
    "    srs='EPSG:4326',\n",
    "    bbox=bbox,\n",
    "    size=(200, 300),\n",
    "    format='image/png',\n",
    "    transparent=True\n",
    ")\n",
    "image = io.BytesIO(response.read())\n",
    "data = plt.imread(image)\n",
    "plt.imshow(data);"
   ]
  },
  {
   "cell_type": "code",
   "execution_count": 12,
   "id": "ea918b30-e05c-4b69-81b0-e354232d44e9",
   "metadata": {},
   "outputs": [
    {
     "data": {
      "image/png": "[encoded data removed]",
      "text/plain": [
       "<Figure size 432x288 with 1 Axes>"
      ]
     },
     "metadata": {
      "needs_background": "light"
     },
     "output_type": "display_data"
    }
   ],
   "source": [
    "extent = (bbox[0], bbox[2], bbox[1], bbox[3])\n",
    "fig = plt.figure()\n",
    "ax = fig.add_axes([0, 0, 1, 1], projection=cartopy.crs.PlateCarree())\n",
    "ax.stock_img()\n",
    "ax.imshow(data, origin=\"upper\", extent=extent, transform=cartopy.crs.PlateCarree())\n",
    "plt.show()"
   ]
  }
 ],
 "metadata": {
  "kernelspec": {
   "display_name": "Python 3 (ipykernel)",
   "language": "python",
   "name": "python3"
  },
  "language_info": {
   "codemirror_mode": {
    "name": "ipython",
    "version": 3
   },
   "file_extension": ".py",
   "mimetype": "text/x-python",
   "name": "python",
   "nbconvert_exporter": "python",
   "pygments_lexer": "ipython3",
   "version": "3.8.10"
  }
 },
 "nbformat": 4,
 "nbformat_minor": 5
}
