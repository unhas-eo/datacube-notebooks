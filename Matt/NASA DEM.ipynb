{
 "cells": [
  {
   "cell_type": "markdown",
   "id": "6e9796f3-6bf3-4faa-af8d-e43309f642f4",
   "metadata": {},
   "source": [
    "## Data source\n",
    "\n",
    "https://lpdaac.usgs.gov/products/nasadem_hgtv001/"
   ]
  },
  {
   "cell_type": "markdown",
   "id": "bbe75fd0-37d2-461c-9288-6d45331261fb",
   "metadata": {},
   "source": [
    "## Setup\n",
    "\n",
    "#### Imports"
   ]
  },
  {
   "cell_type": "code",
   "execution_count": null,
   "id": "82346e4f-427a-4e31-99f0-3709e201fe59",
   "metadata": {},
   "outputs": [],
   "source": [
    "# Data tools\n",
    "import numpy as np\n",
    "import xarray as xr\n",
    "import pandas as pd\n",
    "from datetime import datetime\n",
    "\n",
    "# Datacube\n",
    "import datacube\n",
    "from datacube.utils import masking  # https://github.com/opendatacube/datacube-core/blob/develop/datacube/utils/masking.py\n",
    "from odc.algo import enum_to_bool   # https://github.com/opendatacube/odc-tools/blob/develop/libs/algo/odc/algo/_masking.py\n",
    "from odc.algo import xr_reproject   # https://github.com/opendatacube/odc-tools/blob/develop/libs/algo/odc/algo/_warp.py\n",
    "from datacube.utils.geometry import GeoBox, box  # https://github.com/opendatacube/datacube-core/blob/develop/datacube/utils/geometry/_base.py\n",
    "from datacube.utils.rio import configure_s3_access\n",
    "\n",
    "# Holoviews, Datashader and Bokeh\n",
    "import hvplot.pandas\n",
    "import hvplot.xarray\n",
    "import holoviews as hv\n",
    "import panel as pn\n",
    "import colorcet as cc\n",
    "import cartopy.crs as ccrs\n",
    "from datashader import reductions\n",
    "from holoviews import opts\n",
    "# import geoviews as gv\n",
    "# from holoviews.operation.datashader import rasterize\n",
    "hv.extension('bokeh', logo=False)\n",
    "\n",
    "# Python\n",
    "import sys, os, re\n",
    "\n",
    "# Optional EASI tools\n",
    "sys.path.append(os.path.expanduser('~/hub-notebooks/scripts'))\n",
    "import notebook_utils"
   ]
  },
  {
   "cell_type": "markdown",
   "id": "c21c23a7-5cf9-45b7-b699-34905112e36e",
   "metadata": {},
   "source": [
    "### Dask"
   ]
  },
  {
   "cell_type": "code",
   "execution_count": null,
   "id": "d4477b23-5f3d-46db-b93e-7e7c545a3837",
   "metadata": {},
   "outputs": [],
   "source": [
    "cluster, client = notebook_utils.initialize_dask(workers=(1,2), use_gateway=False, wait=False)\n",
    "display(cluster if cluster else client)\n",
    "notebook_utils.localcluster_dashboard(client)"
   ]
  },
  {
   "cell_type": "markdown",
   "id": "03e14871-a954-43f5-8f49-4847952dac4d",
   "metadata": {},
   "source": [
    "### AWS configuration"
   ]
  },
  {
   "cell_type": "code",
   "execution_count": null,
   "id": "e9aba675-4ee5-40d9-b544-3ffbc07be705",
   "metadata": {},
   "outputs": [],
   "source": [
    "\"\"\"This function obtains credentials for S3 access and passes them on to\n",
    "   processing threads, either local or on dask cluster.\n",
    "   Note that AWS credentials may need to be renewed between sessions or\n",
    "   after a period of time.\"\"\"\n",
    "\n",
    "os.environ[\"AWS_HTTPS\"] = \"NO\"\n",
    "os.environ[\"GDAL_HTTP_PROXY\"] = \"easi-caching-proxy.caching-proxy:80\"\n",
    "\n",
    "from datacube.utils.aws import configure_s3_access\n",
    "configure_s3_access(\n",
    "    aws_unsigned=False,\n",
    "    requester_pays=True,\n",
    "    AWS_HTTPS=os.environ[\"AWS_HTTPS\"],\n",
    "    GDAL_HTTP_PROXY=os.environ[\"GDAL_HTTP_PROXY\"],\n",
    "    client=client\n",
    ")"
   ]
  },
  {
   "cell_type": "code",
   "execution_count": null,
   "id": "4b773bf4-f346-4046-b023-a968ade0a3ff",
   "metadata": {},
   "outputs": [],
   "source": [
    "dc = datacube.Datacube()"
   ]
  },
  {
   "cell_type": "code",
   "execution_count": null,
   "id": "e090ff2d-792e-4440-a04b-b3074681838a",
   "metadata": {},
   "outputs": [],
   "source": [
    "arcsec = 1./3600\n",
    "\n",
    "### Area of interest (Lake Tempe)\n",
    "latitude = (-4.2, -3.9)\n",
    "longitude = (119.8, 120.1)\n",
    "\n",
    "query = {\n",
    "    \"product\": \"lpdaac_nasadem\",\n",
    "    \"x\": longitude,\n",
    "    \"y\": latitude,\n",
    "    \"crs\": 'epsg:4326',\n",
    "    \"output_crs\": 'epsg:4326',\n",
    "    \"resolution\": (-arcsec, arcsec),\n",
    "    \"dask_chunks\": {\"latitude\":2048, \"longitude\":2048},\n",
    "}"
   ]
  },
  {
   "cell_type": "code",
   "execution_count": null,
   "id": "08ac8b62-271a-4c51-aee3-882c3c3422e5",
   "metadata": {},
   "outputs": [],
   "source": [
    "x = dc.load(**query)\n",
    "display(x)"
   ]
  },
  {
   "cell_type": "code",
   "execution_count": null,
   "id": "40b6a9da-467b-4684-a881-e9232f200a57",
   "metadata": {},
   "outputs": [],
   "source": [
    "import hvplot.xarray\n",
    "\n",
    "options = {\n",
    "    'title': 'NASA DEM',\n",
    "    'width': 800,\n",
    "    'height': 800,\n",
    "    'aspect': 'equal',\n",
    "    'cmap': 'seismic',\n",
    "    'clim': (-5,100),    # Limit the color range depending on the layer_name\n",
    "    'colorbar': True,\n",
    "    'tools': ['hover'],\n",
    "}\n",
    "\n",
    "x.hvplot.image(\n",
    "     x = 'longitude', y = 'latitude',         # Dataset x,y dimension names \n",
    "     rasterize = True,                        # If False, data will not be reduced. This is slow to load but all data is loaded.\n",
    "     precompute = True,                       # Datashader precomputes what it can\n",
    "    ).opts(**options).hist(bin_range = options['clim'])"
   ]
  },
  {
   "cell_type": "code",
   "execution_count": null,
   "id": "7e5448c5-47d9-45eb-9e65-c75b6737bf06",
   "metadata": {},
   "outputs": [],
   "source": []
  }
 ],
 "metadata": {
  "kernelspec": {
   "display_name": "Python 3 (ipykernel)",
   "language": "python",
   "name": "python3"
  },
  "language_info": {
   "codemirror_mode": {
    "name": "ipython",
    "version": 3
   },
   "file_extension": ".py",
   "mimetype": "text/x-python",
   "name": "python",
   "nbconvert_exporter": "python",
   "pygments_lexer": "ipython3",
   "version": "3.8.10"
  }
 },
 "nbformat": 4,
 "nbformat_minor": 5
}
