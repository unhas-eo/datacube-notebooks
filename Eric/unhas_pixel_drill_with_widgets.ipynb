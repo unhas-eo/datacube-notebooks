{
 "cells": [
  {
   "cell_type": "markdown",
   "metadata": {},
   "source": [
    "# <u>UNHAS: Pixel drill using interactive widgets</u>\n",
    "\n",
    "**Contents**\n",
    "\n",
    "  - [Overview](#Overview)\n",
    "  - [Notebook setup](#Notebook-setup)\n",
    "  - [Loading up the Sentinel-2 data](#Loading-up-the-Sentinel-2-data)\n",
    "    - [DataCube query](#DataCube-query)\n",
    "    - [Load and pre-process the data](#Load-and-pre-process-the-data)\n",
    "  - [Interactive widget plots](#Interactive-widget-plots)\n",
    "    - [Selecting the pixel drill location](#Selecting-the-pixel-drill-location)\n",
    "    - [Pixel drill plot](#Pixel-drill-plot)\n",
    "    - [Plot the selected image](#Plot-the-selected-image)\n",
    "\n",
    "# Overview\n",
    "\n",
    "This notebook demonstrates the use of interactive widgets in a Jupyter notebook. We will load up a few time slices of Sentinel-2 data over the Lake Tempe region, Indonesia, and display a widget allowing the user to interactively select a pixel of interest over the selected area. The time series of remote sensing values for that pixel is then plotted, allowing the user to select a given time index to use for the final display of the Sentinel-2 image acquired at that specific date.\n",
    "\n",
    "This notebook is adapted from a [Digital Earth Australia](https://github.com/GeoscienceAustralia/dea-notebooks) example by Claire Krause.\n",
    "\n",
    "**A note regarding compatibility**\n",
    "\n",
    "As stated above, this notebook makes use of a specific dataset of remote sensing data, and is applied over a given region of interest. The code below will thus not run properly if the EASI deployment used to run this notebook does not also contain a similar dataset.\n",
    "\n",
    "Users can nonetheless investigate the outputs provided in this demonstration notebook, and also modify certain variables in the code below to allow the notebook to run with a different EASI deployment (e.g. different remote sensing data, region of interest, etc.)\n",
    "\n",
    "# Notebook setup\n",
    "\n",
    "In a typical notebook, we would use the built-in \"magic\" command `%matplotlib inline` to set up the inline `matplotlib` backend in the notebook. Because we will here make use of interactive widgets, we need to invoke a different command to use the `widget` GUI backend, as done below:"
   ]
  },
  {
   "cell_type": "code",
   "execution_count": null,
   "metadata": {},
   "outputs": [],
   "source": [
    "%matplotlib widget"
   ]
  },
  {
   "cell_type": "markdown",
   "metadata": {},
   "source": [
    "Then in the cell below, we import the usual Python modules and functions needed in the rest of this notebook. Subsequently, we also open a connection to the EASI datacube."
   ]
  },
  {
   "cell_type": "code",
   "execution_count": null,
   "metadata": {},
   "outputs": [],
   "source": [
    "### System\n",
    "import os, sys\n",
    "\n",
    "### Datacube \n",
    "from datacube import Datacube\n",
    "from datacube.utils import masking\n",
    "\n",
    "### Data tools\n",
    "import matplotlib.dates\n",
    "import numpy as np\n",
    "\n",
    "### Plotting\n",
    "import ipywidgets as widgets\n",
    "import matplotlib.pyplot as plt\n",
    "\n",
    "### EASI tools\n",
    "sys.path.append('/home/jovyan/git_hub_notebook/scripts/')   \n",
    "   # 'scripts' available by cloning this repository: https://dev.azure.com/csiro-easi/easi-hub-public/_git/hub-notebooks\n",
    "import notebook_utils"
   ]
  },
  {
   "cell_type": "code",
   "execution_count": null,
   "metadata": {},
   "outputs": [],
   "source": [
    "dc = Datacube(app='pixel_drill')"
   ]
  },
  {
   "cell_type": "markdown",
   "metadata": {},
   "source": [
    "\n",
    "# Loading up the Sentinel-2 data\n",
    "\n",
    "## DataCube query\n",
    "\n",
    "In this notebook, we're interested in a dataset of Sentinel-2 imagery (product labelled `s2_l2a` on the current EASI deployment) centred over the Lake Tempe region. We set up the corresponding spatial extent in the query dicitionary below, together with a (small) temporal window.\n",
    "\n",
    "We will use the Sentinel-2 data for false-colour plots of the SWIR, NIR and green bands (in the corresponding RGB channels), so we add these bands to the list of measurements to load up. For the purpose of this demonstration, we will not carry out the typical data clean-up process to mask pixels affected by data quality issues (saturation, clouds, etc.) &ndash; thus, we do not include the `SCL / mask / qa` band here which would otherwise be needed for this QA filtering process.\n",
    "\n",
    "In addition, we don't really care about the projection of the data in the plots further below. So to avoid unnecessary (and time consuming) re-projection of the data, we will here load up the Sentinel-2 dataset in its native projection. In the code below, we use the function `mostcommon_crs()` to work out the dataset's native coordinate reference system (CRS) and set the query parameter `output_crs` accordingly."
   ]
  },
  {
   "cell_type": "code",
   "execution_count": null,
   "metadata": {},
   "outputs": [],
   "source": [
    "product = 's2_l2a'     # Sentinel-2 data on current EASI deployment\n",
    "\n",
    "query = { 'product': product,\n",
    "          'lat': (-3.89, -4.29),           # Lake Tempe\n",
    "          'lon': (119.75, 120.15),\n",
    "          'measurements': ['green', 'nir_1', 'swir_2'],\n",
    "          'time': ('2020-01-01', '2020-06-01'),\n",
    "          'group_by': 'solar_day' }   # scene ordering\n",
    "\n",
    "### Dataset's native projection\n",
    "native_crs = notebook_utils.mostcommon_crs(dc, query)\n",
    "print(f\"The dataset's native CRS is: {native_crs}\")\n",
    "\n",
    "query.update({ 'output_crs': native_crs,    # EPSG code\n",
    "               'resolution': (-30, 30) })   # target resolution"
   ]
  },
  {
   "cell_type": "markdown",
   "metadata": {},
   "source": [
    "## Load and pre-process the data"
   ]
  },
  {
   "cell_type": "code",
   "execution_count": null,
   "metadata": {},
   "outputs": [],
   "source": [
    "data = dc.load(**query)\n",
    "data"
   ]
  },
  {
   "cell_type": "markdown",
   "metadata": {},
   "source": [
    "Because our dataset is here relatively small, we did not make use of `Dask` (distributed `Xarray` processing on compute clusters) &ndash; the data is thus loaded into the system memory. As usual, we can check the size of the data object we just loaded up: without `Dask`, using a very large dataset could lead to technical and/or computational issues in the code further below in this notebook."
   ]
  },
  {
   "cell_type": "code",
   "execution_count": null,
   "metadata": {},
   "outputs": [],
   "source": [
    "print(f\"The size of 'data' in memory is {data.nbytes/(1024**2):.2f} MB.\")"
   ]
  },
  {
   "cell_type": "markdown",
   "metadata": {},
   "source": [
    "Next, we can do some basic data cleaning / re-formatting to allow for a useful display of the plots further below:"
   ]
  },
  {
   "cell_type": "code",
   "execution_count": null,
   "metadata": {},
   "outputs": [],
   "source": [
    "### Set all 'nodata' pixels to 'NaN'\n",
    "data = masking.mask_invalid_data(data)\n",
    "\n",
    "### Set pixels to 'NaN' outside valid range for Sentinel-2 data (GA S2 products)\n",
    "data = data.where((data>=0) & (data<=10000))"
   ]
  },
  {
   "cell_type": "markdown",
   "metadata": {},
   "source": [
    "# Interactive widget plots\n",
    "\n",
    "## Selecting the pixel drill location\n",
    "\n",
    "In the next cell, we (manually) select a time slice from the Sentinel-2 time series, and plot it with a widget allowing the user to click on the plot and select a desired location for the pixel drill.\n",
    "\n",
    "First, we define the callback function `onclick` that specifies what happens when the plot is clicked &ndash; this function here updates the text of the widget `wid` and sets the (global) parameters `pixelx` and `pixely` for the pixel drill location.\n",
    "\n",
    "Subsequently, the plot is displayed and `mpl_connect` is used to bind the `onclick` callback function to the mouse click event."
   ]
  },
  {
   "cell_type": "code",
   "execution_count": null,
   "metadata": {},
   "outputs": [],
   "source": [
    "### Callback function\n",
    "def onclick(event):\n",
    "    global pixelx, pixely\n",
    "    pixelx, pixely = int(event.xdata), int(event.ydata)\n",
    "    wid.value = f'pixelx : {pixelx}, pixely : {pixely}'\n",
    "\n",
    "### Display one of the time slices (manually selected)\n",
    "image_array = data[['swir_2', 'nir_1', 'green']].isel(time=1).to_array()\n",
    "image_array.plot.imshow(robust=True, figsize=(8,8))\n",
    "\n",
    "### Widget handling\n",
    "fig = plt.gcf()\n",
    "wid = widgets.HTML(\"Click on the pixel you would like to interrogate\")\n",
    "cid = fig.canvas.mpl_connect('button_press_event', onclick)\n",
    "display(wid)"
   ]
  },
  {
   "cell_type": "markdown",
   "metadata": {},
   "source": [
    "## Pixel drill plot\n",
    "\n",
    "Once the pixel drill location is selected, the next cell plots the complete timeseries of data for that pixel. \n",
    "\n",
    "For the sake of this demonstration, we here simply plot the `green` spectral band values &ndash; this workflow could easily be updated to display some band arithmetic index, such as NDVI for instance.\n",
    "\n",
    "And similar to the previous example, we make use of the `mpl_connect` function to link the (new) callback function `onclick2` to the mouse-click event on the new plot. Here, the callback function defines the global variable `selected_date` whenever the user clicks on a point on the plot."
   ]
  },
  {
   "cell_type": "code",
   "execution_count": null,
   "metadata": {},
   "outputs": [],
   "source": [
    "### Extract the pixel drill data\n",
    "pix_drill_data = data.green.sel(y=pixely, x=pixelx, method='nearest')\n",
    "\n",
    "### Plot the pixel drill time series\n",
    "fig = plt.figure(figsize=(8,8))\n",
    "plt.plot(data.time, pix_drill_data, 'ro-')\n",
    "plt.xlabel('date'); plt.title('pixel drill data')\n",
    "plt.ylabel('surface reflectance (green band)')\n",
    "\n",
    "### Callback function\n",
    "def onclick2(event):\n",
    "    global selected_date\n",
    "    tmp = event.xdata\n",
    "    selected_date = str( matplotlib.dates.num2date(tmp).date() )   # convert the returned (clicked) integer to datetime string\n",
    "    wid2.value = f'Date of interest : {selected_date}'\n",
    "\n",
    "### Widget handling\n",
    "wid2 = widgets.HTML(\"Click on a point to select the date of interest\")\n",
    "cid = fig.canvas.mpl_connect('button_press_event', onclick2)\n",
    "display(wid2)"
   ]
  },
  {
   "cell_type": "markdown",
   "metadata": {},
   "source": [
    "Depending on the selected pixel drill location, and as we have not filtered out clouds, you might see in the above plot a mix of high `green` values (e.g. >5,000) as well as lower values (perhaps around ~1500). If you click and select various dates in this time series, you will notice that the higher values correspond to images with clouds (high reflectance) covering the pixel drill location. The collection of lower values likely represent the scenes where the sensor provides a clear (cloud-free) image of the selected pixel, and so represent the `green` values of the actual ground.\n",
    "\n",
    "## Plot the selected image\n",
    "\n",
    "Finally, we can simply extract the selected time slice from the Sentinel-2 time series and plot it."
   ]
  },
  {
   "cell_type": "code",
   "execution_count": null,
   "metadata": {},
   "outputs": [],
   "source": [
    "### Convert selected date to datetime format\n",
    "time_slice = np.datetime64(selected_date, 'ns')\n",
    "\n",
    "### Use time stamp to extract and display the selected image\n",
    "image_array = data[['swir_2', 'nir_1', 'green']].sel(time=time_slice, method='nearest').to_array()\n",
    "image_array.plot.imshow(robust=True, figsize=(8,8));"
   ]
  },
  {
   "cell_type": "code",
   "execution_count": null,
   "metadata": {},
   "outputs": [],
   "source": [
    "### End notebook"
   ]
  }
 ],
 "metadata": {
  "celltoolbar": "Raw Cell Format",
  "kernelspec": {
   "display_name": "Python 3 (ipykernel)",
   "language": "python",
   "name": "python3"
  },
  "language_info": {
   "codemirror_mode": {
    "name": "ipython",
    "version": 3
   },
   "file_extension": ".py",
   "mimetype": "text/x-python",
   "name": "python",
   "nbconvert_exporter": "python",
   "pygments_lexer": "ipython3",
   "version": "3.8.10"
  },
  "toc": {
   "base_numbering": 1,
   "nav_menu": {},
   "number_sections": true,
   "sideBar": true,
   "skip_h1_title": false,
   "title_cell": "Table of Contents",
   "title_sidebar": "Contents",
   "toc_cell": false,
   "toc_position": {},
   "toc_section_display": "block",
   "toc_window_display": false
  }
 },
 "nbformat": 4,
 "nbformat_minor": 4
}
